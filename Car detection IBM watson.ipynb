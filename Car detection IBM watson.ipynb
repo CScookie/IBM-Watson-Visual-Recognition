{
 "cells": [
  {
   "cell_type": "markdown",
   "metadata": {},
   "source": [
    "# README\n",
    "\n",
    "pip install --upgrade \"ibm-watson>=4.0.1\"\n",
    "\n",
    "Go to https://cloud.ibm.com/docs/visual-recognition/object-detection.html?programming_language=python\n",
    "\n",
    "Go to the Visual Recognition page in the catalog.\n",
    "\n",
    "Sign up for a free IBM Cloud account or log in.\n",
    "\n",
    "Click Create.\n",
    "\n",
    "Copy the credentials to authenticate to your service instance:\n",
    "\n",
    "On the Manage page, click Show Credentials.\n",
    "\n",
    "Copy the API Key and URL values.\n",
    "\n",
    "Default IBM watson classifer is the general classifer given by IBM itself. Although it can recognize many different objects but the confidence value is lower as compared to a custom classifer such as food(which is also from IBM)\n",
    "\n",
    "Do not run all cells at once. Go by the order of:\n",
    "Creating\n",
    "\n",
    "Checking\n",
    "\n",
    "Testing\n",
    "\n",
    "And deleting if required as lite account only allow one classifier\n",
    "\n",
    "## Documentation:\n",
    "\n",
    "Classifying an image:\n",
    "https://cloud.ibm.com/docs/visual-recognition/object-detection.html?programming_language=python\n",
    "\n",
    "Creting a custom classifier\n",
    "https://cloud.ibm.com/apidocs/visual-recognition/visual-recognition-v3?code=python#delete-a-classifier"
   ]
  },
  {
   "cell_type": "markdown",
   "metadata": {},
   "source": [
    "## Default IBM watson classifier "
   ]
  },
  {
   "cell_type": "code",
   "execution_count": 4,
   "metadata": {},
   "outputs": [
    {
     "name": "stdout",
     "output_type": "stream",
     "text": [
      "{\n",
      "  \"images\": [\n",
      "    {\n",
      "      \"classifiers\": [\n",
      "        {\n",
      "          \"classifier_id\": \"default\",\n",
      "          \"name\": \"default\",\n",
      "          \"classes\": [\n",
      "            {\n",
      "              \"class\": \"divided highway\",\n",
      "              \"score\": 0.844,\n",
      "              \"type_hierarchy\": \"/road/divided highway\"\n",
      "            },\n",
      "            {\n",
      "              \"class\": \"road\",\n",
      "              \"score\": 0.981\n",
      "            },\n",
      "            {\n",
      "              \"class\": \"carriageway\",\n",
      "              \"score\": 0.659,\n",
      "              \"type_hierarchy\": \"/road/carriageway\"\n",
      "            },\n",
      "            {\n",
      "              \"class\": \"highway\",\n",
      "              \"score\": 0.523,\n",
      "              \"type_hierarchy\": \"/road/highway\"\n",
      "            },\n",
      "            {\n",
      "              \"class\": \"arterial road\",\n",
      "              \"score\": 0.5,\n",
      "              \"type_hierarchy\": \"/road/arterial road\"\n",
      "            },\n",
      "            {\n",
      "              \"class\": \"gray color\",\n",
      "              \"score\": 0.995\n",
      "            }\n",
      "          ]\n",
      "        }\n",
      "      ],\n",
      "      \"source_url\": \"https://s.yimg.com/ny/api/res/1.2/lSzov3E5lk3Vcpx.s0WQvw--~A/YXBwaWQ9aGlnaGxhbmRlcjtzbT0xO3c9ODAw/http://media.zenfs.com/en/homerun/feed_manager_auto_publish_494/bcce30bc7401eef87973b59442e6fa51\",\n",
      "      \"resolved_url\": \"https://s.yimg.com/ny/api/res/1.2/lSzov3E5lk3Vcpx.s0WQvw--~A/YXBwaWQ9aGlnaGxhbmRlcjtzbT0xO3c9ODAw/http://media.zenfs.com/en/homerun/feed_manager_auto_publish_494/bcce30bc7401eef87973b59442e6fa51\"\n",
      "    }\n",
      "  ],\n",
      "  \"images_processed\": 1,\n",
      "  \"custom_classes\": 0\n",
      "}\n"
     ]
    }
   ],
   "source": [
    "import json\n",
    "from ibm_watson import VisualRecognitionV3\n",
    "from ibm_cloud_sdk_core.authenticators import IAMAuthenticator\n",
    "\n",
    "authenticator = IAMAuthenticator({'APIkey'}) #replace {'APIkey'} with your API key\n",
    "visual_recognition = VisualRecognitionV3(\n",
    "    version='2018-03-19',\n",
    "    authenticator=authenticator\n",
    ")\n",
    "\n",
    "visual_recognition.set_service_url({'URL'})#replace {'URL'} with your URL\n",
    "\n",
    "url = 'https://s.yimg.com/ny/api/res/1.2/lSzov3E5lk3Vcpx.s0WQvw--~A/YXBwaWQ9aGlnaGxhbmRlcjtzbT0xO3c9ODAw/http://media.zenfs.com/en/homerun/feed_manager_auto_publish_494/bcce30bc7401eef87973b59442e6fa51'\n",
    "\n",
    "classes_result = visual_recognition.classify(url=url).get_result()\n",
    "print(json.dumps(classes_result, indent=2))\n"
   ]
  },
  {
   "cell_type": "markdown",
   "metadata": {},
   "source": [
    "# Food classifier"
   ]
  },
  {
   "cell_type": "code",
   "execution_count": 3,
   "metadata": {},
   "outputs": [
    {
     "name": "stdout",
     "output_type": "stream",
     "text": [
      "{\n",
      "  \"images\": [\n",
      "    {\n",
      "      \"classifiers\": [\n",
      "        {\n",
      "          \"classifier_id\": \"food\",\n",
      "          \"name\": \"food\",\n",
      "          \"classes\": [\n",
      "            {\n",
      "              \"class\": \"hotdog\",\n",
      "              \"score\": 0.722,\n",
      "              \"type_hierarchy\": \"/snack food/sandwich/hotdog\"\n",
      "            },\n",
      "            {\n",
      "              \"class\": \"sandwich\",\n",
      "              \"score\": 0.722\n",
      "            },\n",
      "            {\n",
      "              \"class\": \"snack food\",\n",
      "              \"score\": 0.722\n",
      "            },\n",
      "            {\n",
      "              \"class\": \"frankfurter bun\",\n",
      "              \"score\": 0.526,\n",
      "              \"type_hierarchy\": \"/bread/bun/frankfurter bun\"\n",
      "            },\n",
      "            {\n",
      "              \"class\": \"bun\",\n",
      "              \"score\": 0.526\n",
      "            },\n",
      "            {\n",
      "              \"class\": \"bread\",\n",
      "              \"score\": 0.526\n",
      "            }\n",
      "          ]\n",
      "        }\n",
      "      ],\n",
      "      \"source_url\": \"https://regmedia.co.uk/2017/07/07/hotdog.jpg?x=648&y=324&crop=1\",\n",
      "      \"resolved_url\": \"https://regmedia.co.uk/2017/07/07/hotdog.jpg?x=648&y=324&crop=1\"\n",
      "    }\n",
      "  ],\n",
      "  \"images_processed\": 1,\n",
      "  \"custom_classes\": 0\n",
      "}\n"
     ]
    }
   ],
   "source": [
    "import json\n",
    "from ibm_watson import VisualRecognitionV3\n",
    "from ibm_cloud_sdk_core.authenticators import IAMAuthenticator\n",
    "\n",
    "authenticator = IAMAuthenticator({'APIkey'}) #replace {'APIkey'} with your API key\n",
    "visual_recognition = VisualRecognitionV3(\n",
    "    version='2018-03-19',\n",
    "    authenticator=authenticator\n",
    ")\n",
    "\n",
    "visual_recognition.set_service_url({'URL'})#replace {'URL'} with your URL\n",
    "\n",
    "url = 'https://regmedia.co.uk/2017/07/07/hotdog.jpg?x=648&y=324&crop=1'\n",
    "classifier_ids = [\"food\"]\n",
    "\n",
    "classes_result = visual_recognition.classify(url=url, classifier_ids=classifier_ids).get_result()\n",
    "print(json.dumps(classes_result, indent=2))"
   ]
  },
  {
   "cell_type": "markdown",
   "metadata": {},
   "source": [
    "# Creating custom classifier"
   ]
  },
  {
   "cell_type": "code",
   "execution_count": null,
   "metadata": {},
   "outputs": [],
   "source": [
    "import json\n",
    "from ibm_watson import VisualRecognitionV3\n",
    "from ibm_cloud_sdk_core.authenticators import IAMAuthenticator\n",
    "\n",
    "authenticator = IAMAuthenticator({'APIkey'}) #replace {'APIkey'} with your API key\n",
    "visual_recognition = VisualRecognitionV3(\n",
    "    version='2018-03-19',\n",
    "    authenticator=authenticator\n",
    ")\n",
    "\n",
    "visual_recognition.set_service_url({'URL'})#replace {'URL'} with your URL\n",
    "\n",
    "with open('./cars.zip', 'rb') as cars, open(\n",
    "        './empty_roads.zip', 'rb') as empty_roads, open(\n",
    "            './buildings.zip', 'rb') as buildings:\n",
    "    model = visual_recognition.create_classifier(\n",
    "        'Car',\n",
    "        positive_examples={'cars': cars, 'empty_roads': empty_roads},\n",
    "        negative_examples=buildings).get_result()\n",
    "print(json.dumps(model, indent=2))"
   ]
  },
  {
   "cell_type": "markdown",
   "metadata": {},
   "source": [
    "# Checking classifiers"
   ]
  },
  {
   "cell_type": "code",
   "execution_count": 5,
   "metadata": {},
   "outputs": [
    {
     "name": "stdout",
     "output_type": "stream",
     "text": [
      "{\n",
      "  \"classifiers\": [\n",
      "    {\n",
      "      \"classifier_id\": \"Car_345188264\",\n",
      "      \"name\": \"Car\",\n",
      "      \"status\": \"ready\",\n",
      "      \"owner\": \"91187b85-5c16-4256-9fd8-968ccb873dea\",\n",
      "      \"created\": \"2020-06-14T05:49:42.725Z\",\n",
      "      \"updated\": \"2020-06-14T05:49:42.725Z\",\n",
      "      \"classes\": [\n",
      "        {\n",
      "          \"class\": \"empty_roads\"\n",
      "        },\n",
      "        {\n",
      "          \"class\": \"cars\"\n",
      "        }\n",
      "      ],\n",
      "      \"core_ml_enabled\": true\n",
      "    },\n",
      "    {\n",
      "      \"classifier_id\": \"Car_1729701386\",\n",
      "      \"name\": \"Car\",\n",
      "      \"status\": \"ready\",\n",
      "      \"owner\": \"91187b85-5c16-4256-9fd8-968ccb873dea\",\n",
      "      \"created\": \"2020-06-14T07:12:34.476Z\",\n",
      "      \"updated\": \"2020-06-14T07:12:34.476Z\",\n",
      "      \"classes\": [\n",
      "        {\n",
      "          \"class\": \"empty_roads\"\n",
      "        },\n",
      "        {\n",
      "          \"class\": \"cars\"\n",
      "        }\n",
      "      ],\n",
      "      \"core_ml_enabled\": true\n",
      "    }\n",
      "  ]\n",
      "}\n"
     ]
    }
   ],
   "source": [
    "import json\n",
    "from ibm_watson import VisualRecognitionV3\n",
    "from ibm_cloud_sdk_core.authenticators import IAMAuthenticator\n",
    "\n",
    "authenticator = IAMAuthenticator({'APIkey'}) #replace {'APIkey'} with your API key\n",
    "visual_recognition = VisualRecognitionV3(\n",
    "    version='2018-03-19',\n",
    "    authenticator=authenticator\n",
    ")\n",
    "\n",
    "visual_recognition.set_service_url({'URL'})#replace {'URL'} with your URL\n",
    "\n",
    "classifiers = visual_recognition.list_classifiers(verbose=True).get_result()\n",
    "print(json.dumps(classifiers, indent=2))"
   ]
  },
  {
   "cell_type": "markdown",
   "metadata": {},
   "source": [
    "# Delete classifier"
   ]
  },
  {
   "cell_type": "code",
   "execution_count": null,
   "metadata": {},
   "outputs": [],
   "source": [
    "import json\n",
    "from ibm_watson import VisualRecognitionV3\n",
    "from ibm_cloud_sdk_core.authenticators import IAMAuthenticator\n",
    "\n",
    "authenticator = IAMAuthenticator({'APIkey'}) #replace {'APIkey'} with your API key\n",
    "visual_recognition = VisualRecognitionV3(\n",
    "    version='2018-03-19',\n",
    "    authenticator=authenticator\n",
    ")\n",
    "\n",
    "visual_recognition.set_service_url({'URL'})#replace {'URL'} with your URL\n",
    "\n",
    "visual_recognition.delete_classifier('Car_1641645348')"
   ]
  },
  {
   "cell_type": "markdown",
   "metadata": {},
   "source": [
    "# Testing classifier"
   ]
  },
  {
   "cell_type": "code",
   "execution_count": 9,
   "metadata": {},
   "outputs": [
    {
     "name": "stdout",
     "output_type": "stream",
     "text": [
      "{\n",
      "  \"images\": [\n",
      "    {\n",
      "      \"classifiers\": [\n",
      "        {\n",
      "          \"classifier_id\": \"Car_1729701386\",\n",
      "          \"name\": \"Car\",\n",
      "          \"classes\": [\n",
      "            {\n",
      "              \"class\": \"empty_roads\",\n",
      "              \"score\": 0.903\n",
      "            }\n",
      "          ]\n",
      "        }\n",
      "      ],\n",
      "      \"source_url\": \"https://www.mytransport.sg/trafficsmart/images/2701_1653_20200616165501_b752f7.jpg\",\n",
      "      \"resolved_url\": \"https://www.mytransport.sg/trafficsmart/images/2701_1653_20200616165501_b752f7.jpg\"\n",
      "    }\n",
      "  ],\n",
      "  \"images_processed\": 1,\n",
      "  \"custom_classes\": 2\n",
      "}\n"
     ]
    }
   ],
   "source": [
    "import json\n",
    "from ibm_watson import VisualRecognitionV3\n",
    "from ibm_cloud_sdk_core.authenticators import IAMAuthenticator\n",
    "\n",
    "authenticator = IAMAuthenticator({'APIkey'}) #replace {'APIkey'} with your API key\n",
    "visual_recognition = VisualRecognitionV3(\n",
    "    version='2018-03-19',\n",
    "    authenticator=authenticator\n",
    ")\n",
    "\n",
    "visual_recognition.set_service_url({'URL'})#replace {'URL'} with your URL\n",
    "\n",
    "url = 'https://www.mytransport.sg/trafficsmart/images/2701_1653_20200616165501_b752f7.jpg'\n",
    "classifier_ids='Car_1729701386'\n",
    "\n",
    "\n",
    "classes_result = visual_recognition.classify(url=url, classifier_ids=classifier_ids, threshold=0.0).get_result()\n",
    "print(json.dumps(classes_result, indent=2))"
   ]
  }
 ],
 "metadata": {
  "kernelspec": {
   "display_name": "Python 3",
   "language": "python",
   "name": "python3"
  },
  "language_info": {
   "codemirror_mode": {
    "name": "ipython",
    "version": 3
   },
   "file_extension": ".py",
   "mimetype": "text/x-python",
   "name": "python",
   "nbconvert_exporter": "python",
   "pygments_lexer": "ipython3",
   "version": "3.7.1"
  }
 },
 "nbformat": 4,
 "nbformat_minor": 2
}
